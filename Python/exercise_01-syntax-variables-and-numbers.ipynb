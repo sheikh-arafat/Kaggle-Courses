{
 "cells": [
  {
   "cell_type": "markdown",
   "id": "e42acc6d",
   "metadata": {
    "papermill": {
     "duration": 0.008914,
     "end_time": "2022-06-14T19:21:31.463495",
     "exception": false,
     "start_time": "2022-06-14T19:21:31.454581",
     "status": "completed"
    },
    "tags": []
   },
   "source": [
    "**This notebook is an exercise in the [Python](https://www.kaggle.com/learn/python) course. You can reference the tutorial at [this link](https://www.kaggle.com/colinmorris/hello-python).**\n",
    "\n",
    "---\n"
   ]
  },
  {
   "cell_type": "markdown",
   "id": "2767d7c7",
   "metadata": {
    "papermill": {
     "duration": 0.007663,
     "end_time": "2022-06-14T19:21:31.479267",
     "exception": false,
     "start_time": "2022-06-14T19:21:31.471604",
     "status": "completed"
    },
    "tags": []
   },
   "source": [
    "Welcome to your first set of Python coding problems.  If this is your first time using Kaggle Notebooks, welcome! \n",
    "\n",
    "Notebooks are composed of blocks (called \"cells\") of text and code. Each of these is editable, though you'll mainly be editing the code cells to answer some questions.\n",
    "\n",
    "To get started, try running the code cell below (by pressing the ► button, or clicking on the cell and pressing ctrl+enter on your keyboard)."
   ]
  },
  {
   "cell_type": "code",
   "execution_count": 1,
   "id": "b7c6da9a",
   "metadata": {
    "execution": {
     "iopub.execute_input": "2022-06-14T19:21:31.497780Z",
     "iopub.status.busy": "2022-06-14T19:21:31.496782Z",
     "iopub.status.idle": "2022-06-14T19:21:31.511686Z",
     "shell.execute_reply": "2022-06-14T19:21:31.510982Z"
    },
    "papermill": {
     "duration": 0.02772,
     "end_time": "2022-06-14T19:21:31.514973",
     "exception": false,
     "start_time": "2022-06-14T19:21:31.487253",
     "status": "completed"
    },
    "tags": []
   },
   "outputs": [
    {
     "name": "stdout",
     "output_type": "stream",
     "text": [
      "Hello Kaggle!\n"
     ]
    }
   ],
   "source": [
    "print('Hello Kaggle!')"
   ]
  },
  {
   "cell_type": "code",
   "execution_count": 2,
   "id": "7296ef93",
   "metadata": {
    "execution": {
     "iopub.execute_input": "2022-06-14T19:21:31.534489Z",
     "iopub.status.busy": "2022-06-14T19:21:31.533737Z",
     "iopub.status.idle": "2022-06-14T19:21:31.539819Z",
     "shell.execute_reply": "2022-06-14T19:21:31.538595Z"
    },
    "papermill": {
     "duration": 0.01927,
     "end_time": "2022-06-14T19:21:31.543284",
     "exception": false,
     "start_time": "2022-06-14T19:21:31.524014",
     "status": "completed"
    },
    "tags": []
   },
   "outputs": [
    {
     "name": "stdout",
     "output_type": "stream",
     "text": [
      "You've successfully run some Python code\n",
      "Congratulations!\n"
     ]
    }
   ],
   "source": [
    "print(\"You've successfully run some Python code\")\n",
    "print(\"Congratulations!\")"
   ]
  },
  {
   "cell_type": "markdown",
   "id": "a138a750",
   "metadata": {
    "papermill": {
     "duration": 0.008083,
     "end_time": "2022-06-14T19:21:31.560264",
     "exception": false,
     "start_time": "2022-06-14T19:21:31.552181",
     "status": "completed"
    },
    "tags": []
   },
   "source": [
    "Try adding another line of code in the cell above and re-running it. \n",
    "\n",
    "Now let's get a little fancier:  Add a new code cell by clicking on an existing code cell, hitting the escape key, and then hitting the `a` or `b` key.  The `a` key will add a cell above the current cell, and `b` adds a cell below.\n",
    "\n",
    "Great! Now you know how to use Notebooks.\n",
    "\n",
    "Each hands-on exercise starts by setting up our feedback and code checking mechanism. Run the code cell below to do that. Then you'll be ready to move on to question 0."
   ]
  },
  {
   "cell_type": "code",
   "execution_count": 3,
   "id": "61147413",
   "metadata": {
    "_kg_hide-input": true,
    "_kg_hide-output": true,
    "execution": {
     "iopub.execute_input": "2022-06-14T19:21:31.578533Z",
     "iopub.status.busy": "2022-06-14T19:21:31.577799Z",
     "iopub.status.idle": "2022-06-14T19:21:31.621577Z",
     "shell.execute_reply": "2022-06-14T19:21:31.620672Z"
    },
    "papermill": {
     "duration": 0.055561,
     "end_time": "2022-06-14T19:21:31.623982",
     "exception": false,
     "start_time": "2022-06-14T19:21:31.568421",
     "status": "completed"
    },
    "tags": []
   },
   "outputs": [
    {
     "name": "stdout",
     "output_type": "stream",
     "text": [
      "Setup complete! You're ready to start question 0.\n"
     ]
    }
   ],
   "source": [
    "from learntools.core import binder; binder.bind(globals())\n",
    "from learntools.python.ex1 import *\n",
    "print(\"Setup complete! You're ready to start question 0.\")"
   ]
  },
  {
   "cell_type": "markdown",
   "id": "245b5c82",
   "metadata": {
    "papermill": {
     "duration": 0.008143,
     "end_time": "2022-06-14T19:21:31.640445",
     "exception": false,
     "start_time": "2022-06-14T19:21:31.632302",
     "status": "completed"
    },
    "tags": []
   },
   "source": [
    "# 0.\n",
    "\n",
    "*This is a silly question intended as an introduction to the format we use for hands-on exercises throughout all Kaggle courses.*\n",
    "\n",
    "**What is your favorite color? **\n",
    "\n",
    "To complete this question, create a variable called `color` in the cell below with an appropriate value. The function call `q0.check()` (which we've already provided in the cell below) will check your answer."
   ]
  },
  {
   "cell_type": "code",
   "execution_count": 4,
   "id": "ef842f26",
   "metadata": {
    "execution": {
     "iopub.execute_input": "2022-06-14T19:21:31.659406Z",
     "iopub.status.busy": "2022-06-14T19:21:31.658843Z",
     "iopub.status.idle": "2022-06-14T19:21:31.667918Z",
     "shell.execute_reply": "2022-06-14T19:21:31.666957Z"
    },
    "papermill": {
     "duration": 0.021336,
     "end_time": "2022-06-14T19:21:31.670079",
     "exception": false,
     "start_time": "2022-06-14T19:21:31.648743",
     "status": "completed"
    },
    "tags": []
   },
   "outputs": [
    {
     "data": {
      "application/javascript": [
       "parent.postMessage({\"jupyterEvent\": \"custom.exercise_interaction\", \"data\": {\"outcomeType\": 1, \"valueTowardsCompletion\": 0.25, \"interactionType\": 1, \"questionType\": 2, \"questionId\": \"0_ExerciseFormatTutorial\", \"learnToolsVersion\": \"0.3.4\", \"failureMessage\": \"\", \"exceptionClass\": \"\", \"trace\": \"\"}}, \"*\")"
      ],
      "text/plain": [
       "<IPython.core.display.Javascript object>"
      ]
     },
     "metadata": {},
     "output_type": "display_data"
    },
    {
     "data": {
      "text/markdown": [
       "<span style=\"color:#33cc33\">Correct:</span> What?! You got it right without needing a hint or anything? Drats. Well hey, you should still continue to the next step to get some practice asking for a hint and checking solutions. (Even though you obviously don't need any help here.)"
      ],
      "text/plain": [
       "Correct: What?! You got it right without needing a hint or anything? Drats. Well hey, you should still continue to the next step to get some practice asking for a hint and checking solutions. (Even though you obviously don't need any help here.)"
      ]
     },
     "metadata": {},
     "output_type": "display_data"
    }
   ],
   "source": [
    "# create a variable called color with an appropriate value on the line below\n",
    "# (Remember, strings in Python must be enclosed in 'single' or \"double\" quotes)\n",
    "color = 'blue'\n",
    "# Check your answer\n",
    "q0.check()"
   ]
  },
  {
   "cell_type": "markdown",
   "id": "e749414a",
   "metadata": {
    "papermill": {
     "duration": 0.008811,
     "end_time": "2022-06-14T19:21:31.687478",
     "exception": false,
     "start_time": "2022-06-14T19:21:31.678667",
     "status": "completed"
    },
    "tags": []
   },
   "source": [
    "Didn't get the right answer? How do you not even know your own favorite color?!\n",
    "\n",
    "Delete the `#` in the line below to make one of the lines run. You can choose between getting a hint or the full answer by choosing which line to remove the `#` from. \n",
    "\n",
    "Removing the `#` is called uncommenting, because it changes that line from a \"comment\" which Python doesn't run to code, which Python does run."
   ]
  },
  {
   "cell_type": "code",
   "execution_count": 5,
   "id": "233525be",
   "metadata": {
    "execution": {
     "iopub.execute_input": "2022-06-14T19:21:31.706427Z",
     "iopub.status.busy": "2022-06-14T19:21:31.705833Z",
     "iopub.status.idle": "2022-06-14T19:21:31.712590Z",
     "shell.execute_reply": "2022-06-14T19:21:31.711884Z"
    },
    "papermill": {
     "duration": 0.018663,
     "end_time": "2022-06-14T19:21:31.714557",
     "exception": false,
     "start_time": "2022-06-14T19:21:31.695894",
     "status": "completed"
    },
    "tags": []
   },
   "outputs": [
    {
     "data": {
      "application/javascript": [
       "parent.postMessage({\"jupyterEvent\": \"custom.exercise_interaction\", \"data\": {\"interactionType\": 3, \"questionType\": 2, \"questionId\": \"0_ExerciseFormatTutorial\", \"learnToolsVersion\": \"0.3.4\", \"valueTowardsCompletion\": 0.0, \"failureMessage\": \"\", \"exceptionClass\": \"\", \"trace\": \"\", \"outcomeType\": 4}}, \"*\")"
      ],
      "text/plain": [
       "<IPython.core.display.Javascript object>"
      ]
     },
     "metadata": {},
     "output_type": "display_data"
    },
    {
     "data": {
      "text/markdown": [
       "<span style=\"color:#33cc99\">Solution:</span> \n",
       "```python\n",
       "color = \"blue\"\n",
       "```"
      ],
      "text/plain": [
       "Solution: \n",
       "```python\n",
       "color = \"blue\"\n",
       "```"
      ]
     },
     "metadata": {},
     "output_type": "display_data"
    }
   ],
   "source": [
    "#q0.hint()\n",
    "q0.solution()"
   ]
  },
  {
   "cell_type": "markdown",
   "id": "e47335cb",
   "metadata": {
    "papermill": {
     "duration": 0.00878,
     "end_time": "2022-06-14T19:21:31.732337",
     "exception": false,
     "start_time": "2022-06-14T19:21:31.723557",
     "status": "completed"
    },
    "tags": []
   },
   "source": [
    "The upcoming questions work the same way. The only thing that will change are the question numbers. For the next question, you'll call `q1.check()`, `q1.hint()`, `q1.solution()`, for question 2, you'll call `q2.check()`, and so on."
   ]
  },
  {
   "cell_type": "markdown",
   "id": "29d77567",
   "metadata": {
    "papermill": {
     "duration": 0.008495,
     "end_time": "2022-06-14T19:21:31.750215",
     "exception": false,
     "start_time": "2022-06-14T19:21:31.741720",
     "status": "completed"
    },
    "tags": []
   },
   "source": [
    "<hr/>\n",
    "\n",
    "# 1.\n",
    "\n",
    "Complete the code below. In case it's helpful, here is the table of available arithmetic operations:\n",
    "\n",
    "\n",
    "\n",
    "| Operator     | Name           | Description                                            |\n",
    "|--------------|----------------|--------------------------------------------------------|\n",
    "| ``a + b``    | Addition       | Sum of ``a`` and ``b``                                 |\n",
    "| ``a - b``    | Subtraction    | Difference of ``a`` and ``b``                          |\n",
    "| ``a * b``    | Multiplication | Product of ``a`` and ``b``                             |\n",
    "| ``a / b``    | True division  | Quotient of ``a`` and ``b``                            |\n",
    "| ``a // b``   | Floor division | Quotient of ``a`` and ``b``, removing fractional parts |\n",
    "| ``a % b``    | Modulus        | Integer remainder after division of ``a`` by ``b``     |\n",
    "| ``a ** b``   | Exponentiation | ``a`` raised to the power of ``b``                     |\n",
    "| ``-a``       | Negation       | The negative of ``a``                                  |\n",
    "\n",
    "<span style=\"display:none\"></span>\n"
   ]
  },
  {
   "cell_type": "code",
   "execution_count": 6,
   "id": "c2c55dfb",
   "metadata": {
    "execution": {
     "iopub.execute_input": "2022-06-14T19:21:31.770378Z",
     "iopub.status.busy": "2022-06-14T19:21:31.769793Z",
     "iopub.status.idle": "2022-06-14T19:21:31.777507Z",
     "shell.execute_reply": "2022-06-14T19:21:31.776434Z"
    },
    "papermill": {
     "duration": 0.020717,
     "end_time": "2022-06-14T19:21:31.779673",
     "exception": false,
     "start_time": "2022-06-14T19:21:31.758956",
     "status": "completed"
    },
    "tags": []
   },
   "outputs": [
    {
     "data": {
      "application/javascript": [
       "parent.postMessage({\"jupyterEvent\": \"custom.exercise_interaction\", \"data\": {\"outcomeType\": 1, \"valueTowardsCompletion\": 0.25, \"interactionType\": 1, \"questionType\": 1, \"questionId\": \"1_CircleArea\", \"learnToolsVersion\": \"0.3.4\", \"failureMessage\": \"\", \"exceptionClass\": \"\", \"trace\": \"\"}}, \"*\")"
      ],
      "text/plain": [
       "<IPython.core.display.Javascript object>"
      ]
     },
     "metadata": {},
     "output_type": "display_data"
    },
    {
     "data": {
      "text/markdown": [
       "<span style=\"color:#33cc33\">Correct</span>"
      ],
      "text/plain": [
       "Correct"
      ]
     },
     "metadata": {},
     "output_type": "display_data"
    }
   ],
   "source": [
    "pi = 3.14159 # approximate\n",
    "diameter = 3\n",
    "\n",
    "# Create a variable called 'radius' equal to half the diameter\n",
    "radius = diameter / 2\n",
    "\n",
    "# Create a variable called 'area', using the formula for the area of a circle: pi times the radius squared\n",
    "area = pi * (radius ** 2)\n",
    "\n",
    "# Check your answer\n",
    "q1.check()"
   ]
  },
  {
   "cell_type": "code",
   "execution_count": 7,
   "id": "dd7f4023",
   "metadata": {
    "execution": {
     "iopub.execute_input": "2022-06-14T19:21:31.799839Z",
     "iopub.status.busy": "2022-06-14T19:21:31.799443Z",
     "iopub.status.idle": "2022-06-14T19:21:31.804134Z",
     "shell.execute_reply": "2022-06-14T19:21:31.802549Z"
    },
    "papermill": {
     "duration": 0.01823,
     "end_time": "2022-06-14T19:21:31.807024",
     "exception": false,
     "start_time": "2022-06-14T19:21:31.788794",
     "status": "completed"
    },
    "tags": []
   },
   "outputs": [],
   "source": [
    "# Uncomment and run the lines below if you need help.\n",
    "#q1.hint()\n",
    "#q1.solution()"
   ]
  },
  {
   "cell_type": "markdown",
   "id": "377a3efb",
   "metadata": {
    "papermill": {
     "duration": 0.009386,
     "end_time": "2022-06-14T19:21:31.826350",
     "exception": false,
     "start_time": "2022-06-14T19:21:31.816964",
     "status": "completed"
    },
    "tags": []
   },
   "source": [
    "<hr/>\n",
    "\n",
    "# 2.\n",
    "\n",
    "Add code to the following cell to swap variables `a` and `b` (so that `a` refers to the object previously referred to by `b` and vice versa)."
   ]
  },
  {
   "cell_type": "code",
   "execution_count": 8,
   "id": "f49120e1",
   "metadata": {
    "execution": {
     "iopub.execute_input": "2022-06-14T19:21:31.846190Z",
     "iopub.status.busy": "2022-06-14T19:21:31.845791Z",
     "iopub.status.idle": "2022-06-14T19:21:31.853929Z",
     "shell.execute_reply": "2022-06-14T19:21:31.853186Z"
    },
    "papermill": {
     "duration": 0.020554,
     "end_time": "2022-06-14T19:21:31.855870",
     "exception": false,
     "start_time": "2022-06-14T19:21:31.835316",
     "status": "completed"
    },
    "tags": []
   },
   "outputs": [
    {
     "data": {
      "application/javascript": [
       "parent.postMessage({\"jupyterEvent\": \"custom.exercise_interaction\", \"data\": {\"outcomeType\": 1, \"valueTowardsCompletion\": 0.25, \"interactionType\": 1, \"questionType\": 2, \"questionId\": \"2_VariableSwap\", \"learnToolsVersion\": \"0.3.4\", \"failureMessage\": \"\", \"exceptionClass\": \"\", \"trace\": \"\"}}, \"*\")"
      ],
      "text/plain": [
       "<IPython.core.display.Javascript object>"
      ]
     },
     "metadata": {},
     "output_type": "display_data"
    },
    {
     "data": {
      "text/markdown": [
       "<span style=\"color:#33cc33\">Correct:</span> \n",
       "\n",
       "The most straightforward solution is to use a third variable to temporarily store one of the old values. e.g.:\n",
       "\n",
       "    tmp = a\n",
       "    a = b\n",
       "    b = tmp\n",
       "\n",
       "If you've read lots of Python code, you might have seen the following trick to swap two variables in one line:\n",
       "\n",
       "    a, b = b, a\n",
       "\n",
       "We'll demystify this bit of Python magic later when we talk about *tuples*."
      ],
      "text/plain": [
       "Correct: \n",
       "\n",
       "The most straightforward solution is to use a third variable to temporarily store one of the old values. e.g.:\n",
       "\n",
       "    tmp = a\n",
       "    a = b\n",
       "    b = tmp\n",
       "\n",
       "If you've read lots of Python code, you might have seen the following trick to swap two variables in one line:\n",
       "\n",
       "    a, b = b, a\n",
       "\n",
       "We'll demystify this bit of Python magic later when we talk about *tuples*."
      ]
     },
     "metadata": {},
     "output_type": "display_data"
    }
   ],
   "source": [
    "########### Setup code - don't touch this part ######################\n",
    "# If you're curious, these are examples of lists. We'll talk about \n",
    "# them in depth a few lessons from now. For now, just know that they're\n",
    "# yet another type of Python object, like int or float.\n",
    "a = [1, 2, 3]\n",
    "b = [3, 2, 1]\n",
    "q2.store_original_ids()\n",
    "######################################################################\n",
    "\n",
    "# Your code goes here. Swap the values to which a and b refer.\n",
    "# If you get stuck, you can always uncomment one or both of the lines in\n",
    "# the next cell for a hint, or to peek at the solution.\n",
    "temp = b\n",
    "b = a\n",
    "a = temp\n",
    "\n",
    "######################################################################\n",
    "\n",
    "# Check your answer\n",
    "q2.check()"
   ]
  },
  {
   "cell_type": "code",
   "execution_count": 9,
   "id": "e93be42e",
   "metadata": {
    "execution": {
     "iopub.execute_input": "2022-06-14T19:21:31.876907Z",
     "iopub.status.busy": "2022-06-14T19:21:31.876290Z",
     "iopub.status.idle": "2022-06-14T19:21:31.879768Z",
     "shell.execute_reply": "2022-06-14T19:21:31.879085Z"
    },
    "papermill": {
     "duration": 0.016513,
     "end_time": "2022-06-14T19:21:31.881761",
     "exception": false,
     "start_time": "2022-06-14T19:21:31.865248",
     "status": "completed"
    },
    "tags": []
   },
   "outputs": [],
   "source": [
    "#q2.hint()"
   ]
  },
  {
   "cell_type": "code",
   "execution_count": 10,
   "id": "d1231a77",
   "metadata": {
    "execution": {
     "iopub.execute_input": "2022-06-14T19:21:31.903039Z",
     "iopub.status.busy": "2022-06-14T19:21:31.902609Z",
     "iopub.status.idle": "2022-06-14T19:21:31.906230Z",
     "shell.execute_reply": "2022-06-14T19:21:31.905416Z"
    },
    "papermill": {
     "duration": 0.0166,
     "end_time": "2022-06-14T19:21:31.908092",
     "exception": false,
     "start_time": "2022-06-14T19:21:31.891492",
     "status": "completed"
    },
    "tags": []
   },
   "outputs": [],
   "source": [
    "#q2.solution()"
   ]
  },
  {
   "cell_type": "markdown",
   "id": "f0075ea5",
   "metadata": {
    "papermill": {
     "duration": 0.008708,
     "end_time": "2022-06-14T19:21:31.925968",
     "exception": false,
     "start_time": "2022-06-14T19:21:31.917260",
     "status": "completed"
    },
    "tags": []
   },
   "source": [
    "<hr/>\n",
    "\n",
    "# 3a.\n",
    "\n",
    "Add parentheses to the following expression so that it evaluates to 1."
   ]
  },
  {
   "cell_type": "code",
   "execution_count": 11,
   "id": "84be8e93",
   "metadata": {
    "execution": {
     "iopub.execute_input": "2022-06-14T19:21:31.946622Z",
     "iopub.status.busy": "2022-06-14T19:21:31.945995Z",
     "iopub.status.idle": "2022-06-14T19:21:31.951129Z",
     "shell.execute_reply": "2022-06-14T19:21:31.950447Z"
    },
    "papermill": {
     "duration": 0.017732,
     "end_time": "2022-06-14T19:21:31.952869",
     "exception": false,
     "start_time": "2022-06-14T19:21:31.935137",
     "status": "completed"
    },
    "tags": []
   },
   "outputs": [
    {
     "data": {
      "text/plain": [
       "1"
      ]
     },
     "execution_count": 11,
     "metadata": {},
     "output_type": "execute_result"
    }
   ],
   "source": [
    "(5 - 3) // 2"
   ]
  },
  {
   "cell_type": "code",
   "execution_count": 12,
   "id": "a5fb0a2a",
   "metadata": {
    "execution": {
     "iopub.execute_input": "2022-06-14T19:21:31.973541Z",
     "iopub.status.busy": "2022-06-14T19:21:31.972901Z",
     "iopub.status.idle": "2022-06-14T19:21:31.976461Z",
     "shell.execute_reply": "2022-06-14T19:21:31.975757Z"
    },
    "papermill": {
     "duration": 0.016242,
     "end_time": "2022-06-14T19:21:31.978315",
     "exception": false,
     "start_time": "2022-06-14T19:21:31.962073",
     "status": "completed"
    },
    "tags": []
   },
   "outputs": [],
   "source": [
    "#q3.a.hint()"
   ]
  },
  {
   "cell_type": "code",
   "execution_count": 13,
   "id": "0a0a6b24",
   "metadata": {
    "execution": {
     "iopub.execute_input": "2022-06-14T19:21:31.998781Z",
     "iopub.status.busy": "2022-06-14T19:21:31.998339Z",
     "iopub.status.idle": "2022-06-14T19:21:32.002557Z",
     "shell.execute_reply": "2022-06-14T19:21:32.001626Z"
    },
    "papermill": {
     "duration": 0.01682,
     "end_time": "2022-06-14T19:21:32.004500",
     "exception": false,
     "start_time": "2022-06-14T19:21:31.987680",
     "status": "completed"
    },
    "tags": []
   },
   "outputs": [],
   "source": [
    "# Check your answer (Run this code cell to receive credit!)\n",
    "#q3.a.solution()"
   ]
  },
  {
   "cell_type": "markdown",
   "id": "ea240c12",
   "metadata": {
    "papermill": {
     "duration": 0.008853,
     "end_time": "2022-06-14T19:21:32.022797",
     "exception": false,
     "start_time": "2022-06-14T19:21:32.013944",
     "status": "completed"
    },
    "tags": []
   },
   "source": [
    "# 3b.  <span title=\"A bit spicy\" style=\"color: darkgreen \">🌶️</span>\n",
    "\n",
    "<small>Questions, like this one, marked a spicy pepper are a bit harder.</small>\n",
    "\n",
    "Add parentheses to the following expression so that it evaluates to 0."
   ]
  },
  {
   "cell_type": "code",
   "execution_count": 14,
   "id": "da6f3861",
   "metadata": {
    "execution": {
     "iopub.execute_input": "2022-06-14T19:21:32.043811Z",
     "iopub.status.busy": "2022-06-14T19:21:32.043318Z",
     "iopub.status.idle": "2022-06-14T19:21:32.049421Z",
     "shell.execute_reply": "2022-06-14T19:21:32.048708Z"
    },
    "papermill": {
     "duration": 0.018835,
     "end_time": "2022-06-14T19:21:32.051328",
     "exception": false,
     "start_time": "2022-06-14T19:21:32.032493",
     "status": "completed"
    },
    "tags": []
   },
   "outputs": [
    {
     "data": {
      "text/plain": [
       "0"
      ]
     },
     "execution_count": 14,
     "metadata": {},
     "output_type": "execute_result"
    }
   ],
   "source": [
    "(8 - 3) * (2 - (1 + 1))"
   ]
  },
  {
   "cell_type": "code",
   "execution_count": 15,
   "id": "cb60ace6",
   "metadata": {
    "execution": {
     "iopub.execute_input": "2022-06-14T19:21:32.072405Z",
     "iopub.status.busy": "2022-06-14T19:21:32.071655Z",
     "iopub.status.idle": "2022-06-14T19:21:32.075411Z",
     "shell.execute_reply": "2022-06-14T19:21:32.074697Z"
    },
    "papermill": {
     "duration": 0.016473,
     "end_time": "2022-06-14T19:21:32.077444",
     "exception": false,
     "start_time": "2022-06-14T19:21:32.060971",
     "status": "completed"
    },
    "tags": []
   },
   "outputs": [],
   "source": [
    "#q3.b.hint()"
   ]
  },
  {
   "cell_type": "code",
   "execution_count": 16,
   "id": "662ea322",
   "metadata": {
    "execution": {
     "iopub.execute_input": "2022-06-14T19:21:32.099127Z",
     "iopub.status.busy": "2022-06-14T19:21:32.098475Z",
     "iopub.status.idle": "2022-06-14T19:21:32.102666Z",
     "shell.execute_reply": "2022-06-14T19:21:32.101919Z"
    },
    "papermill": {
     "duration": 0.017565,
     "end_time": "2022-06-14T19:21:32.104888",
     "exception": false,
     "start_time": "2022-06-14T19:21:32.087323",
     "status": "completed"
    },
    "tags": []
   },
   "outputs": [],
   "source": [
    "# Check your answer (Run this code cell to receive credit!)\n",
    "#q3.b.solution()"
   ]
  },
  {
   "cell_type": "markdown",
   "id": "968ab45f",
   "metadata": {
    "papermill": {
     "duration": 0.009144,
     "end_time": "2022-06-14T19:21:32.123559",
     "exception": false,
     "start_time": "2022-06-14T19:21:32.114415",
     "status": "completed"
    },
    "tags": []
   },
   "source": [
    "<hr/>\n",
    "\n",
    "# 4. \n",
    "Alice, Bob and Carol have agreed to pool their Halloween candy and split it evenly among themselves.\n",
    "For the sake of their friendship, any candies left over will be smashed. For example, if they collectively\n",
    "bring home 91 candies, they'll take 30 each and smash 1.\n",
    "\n",
    "Write an arithmetic expression below to calculate how many candies they must smash for a given haul."
   ]
  },
  {
   "cell_type": "code",
   "execution_count": 17,
   "id": "acb44b81",
   "metadata": {
    "execution": {
     "iopub.execute_input": "2022-06-14T19:21:32.144454Z",
     "iopub.status.busy": "2022-06-14T19:21:32.143646Z",
     "iopub.status.idle": "2022-06-14T19:21:32.153204Z",
     "shell.execute_reply": "2022-06-14T19:21:32.152159Z"
    },
    "papermill": {
     "duration": 0.022169,
     "end_time": "2022-06-14T19:21:32.155153",
     "exception": false,
     "start_time": "2022-06-14T19:21:32.132984",
     "status": "completed"
    },
    "tags": []
   },
   "outputs": [
    {
     "data": {
      "application/javascript": [
       "parent.postMessage({\"jupyterEvent\": \"custom.exercise_interaction\", \"data\": {\"outcomeType\": 1, \"valueTowardsCompletion\": 0.25, \"interactionType\": 1, \"questionType\": 1, \"questionId\": \"4_CandySplitting\", \"learnToolsVersion\": \"0.3.4\", \"failureMessage\": \"\", \"exceptionClass\": \"\", \"trace\": \"\"}}, \"*\")"
      ],
      "text/plain": [
       "<IPython.core.display.Javascript object>"
      ]
     },
     "metadata": {},
     "output_type": "display_data"
    },
    {
     "data": {
      "text/markdown": [
       "<span style=\"color:#33cc33\">Correct</span>"
      ],
      "text/plain": [
       "Correct"
      ]
     },
     "metadata": {},
     "output_type": "display_data"
    }
   ],
   "source": [
    "# Variables representing the number of candies collected by alice, bob, and carol\n",
    "alice_candies = 121\n",
    "bob_candies = 77\n",
    "carol_candies = 109\n",
    "\n",
    "# Your code goes here! Replace the right-hand side of this assignment with an expression\n",
    "# involving alice_candies, bob_candies, and carol_candies\n",
    "to_smash = (alice_candies + bob_candies + carol_candies) % 3\n",
    "\n",
    "# Check your answer\n",
    "q4.check()"
   ]
  },
  {
   "cell_type": "code",
   "execution_count": 18,
   "id": "3feb092d",
   "metadata": {
    "execution": {
     "iopub.execute_input": "2022-06-14T19:21:32.177566Z",
     "iopub.status.busy": "2022-06-14T19:21:32.176757Z",
     "iopub.status.idle": "2022-06-14T19:21:32.181251Z",
     "shell.execute_reply": "2022-06-14T19:21:32.180198Z"
    },
    "papermill": {
     "duration": 0.018263,
     "end_time": "2022-06-14T19:21:32.183237",
     "exception": false,
     "start_time": "2022-06-14T19:21:32.164974",
     "status": "completed"
    },
    "tags": []
   },
   "outputs": [],
   "source": [
    "#q4.hint()\n",
    "#q4.solution()"
   ]
  },
  {
   "cell_type": "markdown",
   "id": "33a3bdb4",
   "metadata": {
    "papermill": {
     "duration": 0.009446,
     "end_time": "2022-06-14T19:21:32.203221",
     "exception": false,
     "start_time": "2022-06-14T19:21:32.193775",
     "status": "completed"
    },
    "tags": []
   },
   "source": [
    "# Keep Going\n",
    "\n",
    "Next up, you'll **[learn to write new functions and understand functions others write](https://www.kaggle.com/colinmorris/functions-and-getting-help)**. This will make you at least 10 times more productive as a Python programmer. "
   ]
  },
  {
   "cell_type": "markdown",
   "id": "4d4d57b4",
   "metadata": {
    "papermill": {
     "duration": 0.009287,
     "end_time": "2022-06-14T19:21:32.222080",
     "exception": false,
     "start_time": "2022-06-14T19:21:32.212793",
     "status": "completed"
    },
    "tags": []
   },
   "source": [
    "---\n",
    "\n",
    "\n",
    "\n",
    "\n",
    "*Have questions or comments? Visit the [course discussion forum](https://www.kaggle.com/learn/python/discussion) to chat with other learners.*"
   ]
  }
 ],
 "metadata": {
  "kernelspec": {
   "display_name": "Python 3",
   "language": "python",
   "name": "python3"
  },
  "language_info": {
   "codemirror_mode": {
    "name": "ipython",
    "version": 3
   },
   "file_extension": ".py",
   "mimetype": "text/x-python",
   "name": "python",
   "nbconvert_exporter": "python",
   "pygments_lexer": "ipython3",
   "version": "3.7.12"
  },
  "papermill": {
   "default_parameters": {},
   "duration": 12.085021,
   "end_time": "2022-06-14T19:21:32.852429",
   "environment_variables": {},
   "exception": null,
   "input_path": "__notebook__.ipynb",
   "output_path": "__notebook__.ipynb",
   "parameters": {},
   "start_time": "2022-06-14T19:21:20.767408",
   "version": "2.3.4"
  }
 },
 "nbformat": 4,
 "nbformat_minor": 5
}
